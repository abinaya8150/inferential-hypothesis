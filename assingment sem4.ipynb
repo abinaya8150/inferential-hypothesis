{
 "cells": [
  {
   "cell_type": "code",
   "execution_count": 2,
   "id": "eda3feb5",
   "metadata": {},
   "outputs": [
    {
     "name": "stdout",
     "output_type": "stream",
     "text": [
      "Sample Mean (Point Estimate): 64.43555931244688\n"
     ]
    }
   ],
   "source": [
    "import numpy as np\n",
    "\n",
    "# Generate sample data: heights of 30 students (in inches)\n",
    "np.random.seed(42)  # for reproducibility\n",
    "heights = np.random.normal(loc=65, scale=3, size=30)\n",
    "\n",
    "# Point estimation: calculate the sample mean\n",
    "sample_mean = np.mean(heights)\n",
    "print(\"Sample Mean (Point Estimate):\", sample_mean)\n"
   ]
  },
  {
   "cell_type": "code",
   "execution_count": 4,
   "id": "650e2eb0",
   "metadata": {},
   "outputs": [
    {
     "name": "stdout",
     "output_type": "stream",
     "text": [
      "Confidence Interval (95.0%): [63.427355543105506, 65.44376308178826]\n"
     ]
    }
   ],
   "source": [
    "import numpy as np\n",
    "import scipy.stats as stats\n",
    "\n",
    "# Generate sample data: heights of 30 students (in inches)\n",
    "np.random.seed(42)  # for reproducibility\n",
    "heights = np.random.normal(loc=65, scale=3, size=30)\n",
    "\n",
    "# Calculate the sample mean and standard deviation\n",
    "sample_mean = np.mean(heights)\n",
    "sample_std = np.std(heights, ddof=1)  # ddof=1 for sample standard deviation\n",
    "\n",
    "# Set the desired confidence level\n",
    "confidence_level = 0.95\n",
    "\n",
    "# Calculate the margin of error\n",
    "margin_of_error = stats.t.ppf((1 + confidence_level) / 2, len(heights) - 1) * (sample_std / np.sqrt(len(heights)))\n",
    "\n",
    "# Calculate the confidence interval\n",
    "lower_bound = sample_mean - margin_of_error\n",
    "upper_bound = sample_mean + margin_of_error\n",
    "\n",
    "# Print the confidence interval\n",
    "print(f\"Confidence Interval ({confidence_level*100}%): [{lower_bound}, {upper_bound}]\")\n"
   ]
  },
  {
   "cell_type": "code",
   "execution_count": 6,
   "id": "5886a92d",
   "metadata": {},
   "outputs": [
    {
     "name": "stdout",
     "output_type": "stream",
     "text": [
      "T-test Results:\n",
      "T-statistic: -4.512913234547576\n",
      "P-value: 3.176506547469916e-05\n",
      "Reject the null hypothesis. There is a significant difference between the means of the two groups.\n"
     ]
    }
   ],
   "source": [
    "import numpy as np\n",
    "from scipy import stats\n",
    "\n",
    "# Generate sample data for two groups\n",
    "np.random.seed(42)  # for reproducibility\n",
    "group1_scores = np.random.normal(loc=70, scale=5, size=30)\n",
    "group2_scores = np.random.normal(loc=75, scale=5, size=30)\n",
    "\n",
    "# Perform independent t-test\n",
    "t_statistic, p_value = stats.ttest_ind(group1_scores, group2_scores)\n",
    "\n",
    "# Set the significance level\n",
    "alpha = 0.05\n",
    "\n",
    "# Print the results\n",
    "print(\"T-test Results:\")\n",
    "print(\"T-statistic:\", t_statistic)\n",
    "print(\"P-value:\", p_value)\n",
    "\n",
    "# Check if the p-value is less than alpha to determine significance\n",
    "if p_value < alpha:\n",
    "    print(\"Reject the null hypothesis. There is a significant difference between the means of the two groups.\")\n",
    "else:\n",
    "    print(\"Fail to reject the null hypothesis. There is no significant difference between the means of the two groups.\")\n"
   ]
  },
  {
   "cell_type": "code",
   "execution_count": 8,
   "id": "a6963e17",
   "metadata": {},
   "outputs": [
    {
     "name": "stdout",
     "output_type": "stream",
     "text": [
      "Two-tailed Test:\n",
      "T-statistic: 0.293738659839077\n",
      "P-value: 0.7723176795011344\n",
      "\n",
      "One-tailed Test (Right-tailed):\n",
      "T-statistic: 0.293738659839077\n",
      "P-value: 0.3861588397505672\n",
      "\n",
      "One-tailed Test (Left-tailed):\n",
      "T-statistic: 0.293738659839077\n",
      "P-value: 0.6138411602494327\n"
     ]
    }
   ],
   "source": [
    "import numpy as np\n",
    "from scipy import stats\n",
    "\n",
    "# Sample data for two groups\n",
    "group1 = np.array([20, 22, 25, 28, 30, 32, 34, 35, 38, 40])\n",
    "group2 = np.array([18, 21, 24, 27, 29, 31, 33, 36, 37, 39])\n",
    "\n",
    "# Perform two-tailed t-test\n",
    "t_statistic_2tail, p_value_2tail = stats.ttest_ind(group1, group2)\n",
    "\n",
    "# Perform one-tailed t-test (right-tailed)\n",
    "t_statistic_1tail_right, p_value_1tail_right = stats.ttest_ind(group1, group2, alternative='greater')\n",
    "\n",
    "# Perform one-tailed t-test (left-tailed)\n",
    "t_statistic_1tail_left, p_value_1tail_left = stats.ttest_ind(group1, group2, alternative='less')\n",
    "\n",
    "# Print two-tailed test results\n",
    "print(\"Two-tailed Test:\")\n",
    "print(\"T-statistic:\", t_statistic_2tail)\n",
    "print(\"P-value:\", p_value_2tail)\n",
    "\n",
    "# Print one-tailed (right-tailed) test results\n",
    "print(\"\\nOne-tailed Test (Right-tailed):\")\n",
    "print(\"T-statistic:\", t_statistic_1tail_right)\n",
    "print(\"P-value:\", p_value_1tail_right)\n",
    "\n",
    "# Print one-tailed (left-tailed) test results\n",
    "print(\"\\nOne-tailed Test (Left-tailed):\")\n",
    "print(\"T-statistic:\", t_statistic_1tail_left)\n",
    "print(\"P-value:\", p_value_1tail_left)\n"
   ]
  },
  {
   "cell_type": "code",
   "execution_count": null,
   "id": "a7ba7f7e",
   "metadata": {},
   "outputs": [],
   "source": []
  }
 ],
 "metadata": {
  "kernelspec": {
   "display_name": "Python 3 (ipykernel)",
   "language": "python",
   "name": "python3"
  },
  "language_info": {
   "codemirror_mode": {
    "name": "ipython",
    "version": 3
   },
   "file_extension": ".py",
   "mimetype": "text/x-python",
   "name": "python",
   "nbconvert_exporter": "python",
   "pygments_lexer": "ipython3",
   "version": "3.11.5"
  }
 },
 "nbformat": 4,
 "nbformat_minor": 5
}
